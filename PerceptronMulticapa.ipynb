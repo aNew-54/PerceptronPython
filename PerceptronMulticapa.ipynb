{
 "cells": [
  {
   "metadata": {},
   "cell_type": "markdown",
   "source": [
    "# 🧬 Red Neuronal Multicapa (MLP) desde cero en Python\n",
    "\n",
    "A continuación se mostrará cómo se construyó una red neuronal con una capa oculta para aprender la compuerta lógica **XOR** utilizando datos de 4 bits. A diferencia del perceptrón simple, el MLP puede aprender funciones que **no son linealmente separables**.\n",
    "\n",
    "---"
   ],
   "id": "d68e24f8d3c375b7"
  },
  {
   "metadata": {},
   "cell_type": "markdown",
   "source": [
    "## 📘 ¿Qué es una red neuronal multicapa?\n",
    "\n",
    "Una red neuronal multicapa (MLP) consta de:\n",
    "\n",
    "- Una **capa de entrada**: recibe los datos (en nuestro caso, 4 bits).\n",
    "- Al menos una **capa oculta**: permite aprender patrones no lineales.\n",
    "- Una **capa de salida**: genera la predicción.\n",
    "\n",
    "### 🧪 Función de activación: Sigmoide\n",
    "\n",
    "Usamos la función sigmoide para introducir no linealidad:\n",
    "\n",
    "\n",
    "\n",
    "$$\n",
    "\\sigma(z) = \\frac{1}{1 + e^{-z}}\n",
    "$$\n",
    "\n",
    "\n",
    "\n",
    "Y su derivada para retropropagación:\n",
    "\n",
    "\n",
    "\n",
    "$$\n",
    "\\sigma'(z) = \\sigma(z) \\cdot (1 - \\sigma(z))\n",
    "$$\n",
    "\n",
    "\n",
    "\n",
    "### 🔄 Backpropagation (propagación hacia atrás)\n",
    "\n",
    "1. Calcular el error en la salida\n",
    "2. Propagar ese error hacia la capa oculta\n",
    "3. Ajustar pesos proporcional al gradiente\n",
    "\n",
    "---\n"
   ],
   "id": "c14b0f67a59b068"
  },
  {
   "metadata": {},
   "cell_type": "markdown",
   "source": "## 💹 Preparación de datos",
   "id": "b4552c742e8512ee"
  },
  {
   "metadata": {
    "ExecuteTime": {
     "end_time": "2025-06-25T05:18:02.068745Z",
     "start_time": "2025-06-25T05:18:02.043381Z"
    }
   },
   "cell_type": "code",
   "source": [
    "import numpy as np\n",
    "import pandas as pd\n",
    "\n",
    "# Leer el dataset\n",
    "archivo_excel = pd.read_excel('Recursos/CompuertaXOR.xlsx')\n",
    "X = archivo_excel[[\"X1\", \"X2\", \"X3\", \"X4\"]].values\n",
    "y = archivo_excel[[\"d\"]].values\n",
    "\n",
    "# Mostrar los datos\n",
    "archivo_excel\n"
   ],
   "id": "206ebfcf6679a68",
   "outputs": [
    {
     "data": {
      "text/plain": [
       "    X1  X2  X3  X4  d\n",
       "0    0   0   0   0  0\n",
       "1    0   0   0   1  1\n",
       "2    0   0   1   0  1\n",
       "3    0   0   1   1  0\n",
       "4    0   1   0   0  1\n",
       "5    0   1   0   1  0\n",
       "6    0   1   1   0  0\n",
       "7    0   1   1   1  1\n",
       "8    1   0   0   0  1\n",
       "9    1   0   0   1  0\n",
       "10   1   0   1   0  0\n",
       "11   1   0   1   1  1\n",
       "12   1   1   0   0  0\n",
       "13   1   1   0   1  1\n",
       "14   1   1   1   0  1\n",
       "15   1   1   1   1  0"
      ],
      "text/html": [
       "<div>\n",
       "<style scoped>\n",
       "    .dataframe tbody tr th:only-of-type {\n",
       "        vertical-align: middle;\n",
       "    }\n",
       "\n",
       "    .dataframe tbody tr th {\n",
       "        vertical-align: top;\n",
       "    }\n",
       "\n",
       "    .dataframe thead th {\n",
       "        text-align: right;\n",
       "    }\n",
       "</style>\n",
       "<table border=\"1\" class=\"dataframe\">\n",
       "  <thead>\n",
       "    <tr style=\"text-align: right;\">\n",
       "      <th></th>\n",
       "      <th>X1</th>\n",
       "      <th>X2</th>\n",
       "      <th>X3</th>\n",
       "      <th>X4</th>\n",
       "      <th>d</th>\n",
       "    </tr>\n",
       "  </thead>\n",
       "  <tbody>\n",
       "    <tr>\n",
       "      <th>0</th>\n",
       "      <td>0</td>\n",
       "      <td>0</td>\n",
       "      <td>0</td>\n",
       "      <td>0</td>\n",
       "      <td>0</td>\n",
       "    </tr>\n",
       "    <tr>\n",
       "      <th>1</th>\n",
       "      <td>0</td>\n",
       "      <td>0</td>\n",
       "      <td>0</td>\n",
       "      <td>1</td>\n",
       "      <td>1</td>\n",
       "    </tr>\n",
       "    <tr>\n",
       "      <th>2</th>\n",
       "      <td>0</td>\n",
       "      <td>0</td>\n",
       "      <td>1</td>\n",
       "      <td>0</td>\n",
       "      <td>1</td>\n",
       "    </tr>\n",
       "    <tr>\n",
       "      <th>3</th>\n",
       "      <td>0</td>\n",
       "      <td>0</td>\n",
       "      <td>1</td>\n",
       "      <td>1</td>\n",
       "      <td>0</td>\n",
       "    </tr>\n",
       "    <tr>\n",
       "      <th>4</th>\n",
       "      <td>0</td>\n",
       "      <td>1</td>\n",
       "      <td>0</td>\n",
       "      <td>0</td>\n",
       "      <td>1</td>\n",
       "    </tr>\n",
       "    <tr>\n",
       "      <th>5</th>\n",
       "      <td>0</td>\n",
       "      <td>1</td>\n",
       "      <td>0</td>\n",
       "      <td>1</td>\n",
       "      <td>0</td>\n",
       "    </tr>\n",
       "    <tr>\n",
       "      <th>6</th>\n",
       "      <td>0</td>\n",
       "      <td>1</td>\n",
       "      <td>1</td>\n",
       "      <td>0</td>\n",
       "      <td>0</td>\n",
       "    </tr>\n",
       "    <tr>\n",
       "      <th>7</th>\n",
       "      <td>0</td>\n",
       "      <td>1</td>\n",
       "      <td>1</td>\n",
       "      <td>1</td>\n",
       "      <td>1</td>\n",
       "    </tr>\n",
       "    <tr>\n",
       "      <th>8</th>\n",
       "      <td>1</td>\n",
       "      <td>0</td>\n",
       "      <td>0</td>\n",
       "      <td>0</td>\n",
       "      <td>1</td>\n",
       "    </tr>\n",
       "    <tr>\n",
       "      <th>9</th>\n",
       "      <td>1</td>\n",
       "      <td>0</td>\n",
       "      <td>0</td>\n",
       "      <td>1</td>\n",
       "      <td>0</td>\n",
       "    </tr>\n",
       "    <tr>\n",
       "      <th>10</th>\n",
       "      <td>1</td>\n",
       "      <td>0</td>\n",
       "      <td>1</td>\n",
       "      <td>0</td>\n",
       "      <td>0</td>\n",
       "    </tr>\n",
       "    <tr>\n",
       "      <th>11</th>\n",
       "      <td>1</td>\n",
       "      <td>0</td>\n",
       "      <td>1</td>\n",
       "      <td>1</td>\n",
       "      <td>1</td>\n",
       "    </tr>\n",
       "    <tr>\n",
       "      <th>12</th>\n",
       "      <td>1</td>\n",
       "      <td>1</td>\n",
       "      <td>0</td>\n",
       "      <td>0</td>\n",
       "      <td>0</td>\n",
       "    </tr>\n",
       "    <tr>\n",
       "      <th>13</th>\n",
       "      <td>1</td>\n",
       "      <td>1</td>\n",
       "      <td>0</td>\n",
       "      <td>1</td>\n",
       "      <td>1</td>\n",
       "    </tr>\n",
       "    <tr>\n",
       "      <th>14</th>\n",
       "      <td>1</td>\n",
       "      <td>1</td>\n",
       "      <td>1</td>\n",
       "      <td>0</td>\n",
       "      <td>1</td>\n",
       "    </tr>\n",
       "    <tr>\n",
       "      <th>15</th>\n",
       "      <td>1</td>\n",
       "      <td>1</td>\n",
       "      <td>1</td>\n",
       "      <td>1</td>\n",
       "      <td>0</td>\n",
       "    </tr>\n",
       "  </tbody>\n",
       "</table>\n",
       "</div>"
      ]
     },
     "execution_count": 10,
     "metadata": {},
     "output_type": "execute_result"
    }
   ],
   "execution_count": 10
  },
  {
   "metadata": {},
   "cell_type": "markdown",
   "source": "___",
   "id": "5bbe65b8659edbce"
  },
  {
   "metadata": {},
   "cell_type": "markdown",
   "source": "## 🟰 Definición de las funciones de activación",
   "id": "52f8c5b1d913a7f6"
  },
  {
   "metadata": {
    "ExecuteTime": {
     "end_time": "2025-06-25T05:18:02.134806Z",
     "start_time": "2025-06-25T05:18:02.132979Z"
    }
   },
   "cell_type": "code",
   "source": [
    "# Función sigmoide y su derivada\n",
    "def sigmoid(x):\n",
    "    return 1 / (1 + np.exp(-x))\n",
    "\n",
    "def sigmoid_derivative(x):\n",
    "    return x * (1 - x)\n"
   ],
   "id": "b816026f5dc935e7",
   "outputs": [],
   "execution_count": 11
  },
  {
   "metadata": {},
   "cell_type": "markdown",
   "source": "### Gráfico de las función Sigmoide y su Derivada",
   "id": "3e448fdd4de4cd84"
  },
  {
   "metadata": {
    "ExecuteTime": {
     "end_time": "2025-06-25T05:18:02.312440Z",
     "start_time": "2025-06-25T05:18:02.200155Z"
    }
   },
   "cell_type": "code",
   "source": [
    "import numpy as np\n",
    "import matplotlib.pyplot as plt\n",
    "\n",
    "# Definición de la función sigmoide y su derivada\n",
    "def sigmoid(x):\n",
    "    return 1 / (1 + np.exp(-x))\n",
    "\n",
    "def sigmoid_derivative(sigmoid_output):\n",
    "    return sigmoid_output * (1 - sigmoid_output)\n",
    "\n",
    "# Rango de valores para x\n",
    "x_vals = np.linspace(-10, 10, 1000)\n",
    "sig_vals = sigmoid(x_vals)\n",
    "deriv_vals = sigmoid_derivative(sig_vals)\n",
    "\n",
    "# Gráfico\n",
    "plt.figure(figsize=(8, 5))\n",
    "plt.plot(x_vals, sig_vals, label='Sigmoide', color='blue')\n",
    "plt.plot(x_vals, deriv_vals, label='Derivada', color='orange', linestyle='--')\n",
    "plt.title('Función Sigmoide y su Derivada')\n",
    "plt.xlabel('x')\n",
    "plt.ylabel('Valor')\n",
    "plt.grid(True)\n",
    "plt.legend()\n",
    "plt.tight_layout()\n",
    "plt.show()\n"
   ],
   "id": "fbc0b6e2495fde4f",
   "outputs": [
    {
     "data": {
      "text/plain": [
       "<Figure size 800x500 with 1 Axes>"
      ],
      "image/png": "[encoded data removed]"
     },
     "metadata": {},
     "output_type": "display_data"
    }
   ],
   "execution_count": 12
  },
  {
   "metadata": {},
   "cell_type": "markdown",
   "source": [
    "---\n",
    "## Inicializar pesos, sesgos e hiperparámetros"
   ],
   "id": "57e6fa5b308bd17"
  },
  {
   "metadata": {
    "ExecuteTime": {
     "end_time": "2025-06-25T05:18:02.369467Z",
     "start_time": "2025-06-25T05:18:02.366622Z"
    }
   },
   "cell_type": "code",
   "source": [
    "# Parámetros\n",
    "np.random.seed(42)\n",
    "input_size = 4\n",
    "hidden_size = 8\n",
    "output_size = 1\n",
    "learning_rate = 0.5\n",
    "epochs = 1000\n",
    "\n",
    "# Pesos y sesgos\n",
    "weights_input_hidden = np.random.uniform(-1, 1, (input_size, hidden_size))\n",
    "bias_hidden = np.zeros((1, hidden_size))\n",
    "weights_hidden_output = np.random.uniform(-1, 1, (hidden_size, output_size))\n",
    "bias_output = np.zeros((1, output_size))\n",
    "\n",
    "# Lista para registrar el error por época\n",
    "errores = []"
   ],
   "id": "d94b9971b52f5141",
   "outputs": [],
   "execution_count": 13
  },
  {
   "metadata": {},
   "cell_type": "markdown",
   "source": [
    "___\n",
    "## 🔁 Entrenamiento con Forward + Backpropagation"
   ],
   "id": "e15c45000bd5f76e"
  },
  {
   "metadata": {
    "ExecuteTime": {
     "end_time": "2025-06-25T05:18:02.471947Z",
     "start_time": "2025-06-25T05:18:02.422720Z"
    }
   },
   "cell_type": "code",
   "source": [
    "for epoch in range(epochs):\n",
    "    # FORWARD\n",
    "    hidden_input = np.dot(X, weights_input_hidden) + bias_hidden\n",
    "    hidden_output = sigmoid(hidden_input)\n",
    "\n",
    "    final_input = np.dot(hidden_output, weights_hidden_output) + bias_output\n",
    "    final_output = sigmoid(final_input)\n",
    "\n",
    "    # BACKPROPAGATION\n",
    "    output_error = y - final_output\n",
    "    output_delta = output_error * sigmoid_derivative(final_output)\n",
    "\n",
    "    hidden_error = output_delta.dot(weights_hidden_output.T)\n",
    "    hidden_delta = hidden_error * sigmoid_derivative(hidden_output)\n",
    "\n",
    "    # Actualizar pesos\n",
    "    weights_hidden_output += hidden_output.T.dot(output_delta) * learning_rate\n",
    "    bias_output += np.sum(output_delta, axis=0, keepdims=True) * learning_rate\n",
    "\n",
    "    weights_input_hidden += X.T.dot(hidden_delta) * learning_rate\n",
    "    bias_hidden += np.sum(hidden_delta, axis=0, keepdims=True) * learning_rate\n",
    "\n",
    "    # Guardar error promedio\n",
    "    loss = np.mean(np.square(output_error))\n",
    "    errores.append(loss)\n",
    "\n",
    "    if epoch % 100 == 0:\n",
    "        print(f\"Época {epoch}, Pérdida: {loss:.4f}\")\n"
   ],
   "id": "6a038fc7eb8f79f0",
   "outputs": [
    {
     "name": "stdout",
     "output_type": "stream",
     "text": [
      "Época 0, Pérdida: 0.2761\n",
      "Época 100, Pérdida: 0.2501\n",
      "Época 200, Pérdida: 0.2500\n",
      "Época 300, Pérdida: 0.2498\n",
      "Época 400, Pérdida: 0.2493\n",
      "Época 500, Pérdida: 0.2474\n",
      "Época 600, Pérdida: 0.2304\n",
      "Época 700, Pérdida: 0.1543\n",
      "Época 800, Pérdida: 0.0991\n",
      "Época 900, Pérdida: 0.0802\n"
     ]
    }
   ],
   "execution_count": 14
  },
  {
   "metadata": {},
   "cell_type": "markdown",
   "source": [
    "___\n",
    "## Gráfico del error por época"
   ],
   "id": "3a13ccf95c58ac4a"
  },
  {
   "metadata": {
    "ExecuteTime": {
     "end_time": "2025-06-25T05:18:02.569234Z",
     "start_time": "2025-06-25T05:18:02.490326Z"
    }
   },
   "cell_type": "code",
   "source": [
    "import matplotlib.pyplot as plt\n",
    "\n",
    "plt.plot(range(epochs), errores, color='purple')\n",
    "plt.title(\" Evolución del error durante el entrenamiento\")\n",
    "plt.xlabel(\"Época\")\n",
    "plt.ylabel(\"Error cuadrático medio\")\n",
    "plt.grid(True)\n",
    "plt.show()\n"
   ],
   "id": "fddf46f6ab4384ca",
   "outputs": [
    {
     "data": {
      "text/plain": [
       "<Figure size 640x480 with 1 Axes>"
      ],
      "image/png": "[encoded data removed]"
     },
     "metadata": {},
     "output_type": "display_data"
    }
   ],
   "execution_count": 15
  },
  {
   "metadata": {},
   "cell_type": "markdown",
   "source": [
    "---\n",
    "## Predicciones Finales"
   ],
   "id": "3bb680c86fbca2d0"
  },
  {
   "metadata": {
    "ExecuteTime": {
     "end_time": "2025-06-25T05:18:02.591352Z",
     "start_time": "2025-06-25T05:18:02.585802Z"
    }
   },
   "cell_type": "code",
   "source": [
    "print(\"\\nPredicciones finales:\")\n",
    "for xi in X:\n",
    "    hidden = sigmoid(np.dot(xi, weights_input_hidden) + bias_hidden)\n",
    "    output = sigmoid(np.dot(hidden, weights_hidden_output) + bias_output)\n",
    "    print(f\"Entrada: {xi} → Predicción: {output.round(3)}\")\n"
   ],
   "id": "bc9541cfd5bd16a4",
   "outputs": [
    {
     "name": "stdout",
     "output_type": "stream",
     "text": [
      "\n",
      "Predicciones finales:\n",
      "Entrada: [0 0 0 0] → Predicción: [[0.117]]\n",
      "Entrada: [0 0 0 1] → Predicción: [[0.869]]\n",
      "Entrada: [0 0 1 0] → Predicción: [[0.884]]\n",
      "Entrada: [0 0 1 1] → Predicción: [[0.123]]\n",
      "Entrada: [0 1 0 0] → Predicción: [[0.874]]\n",
      "Entrada: [0 1 0 1] → Predicción: [[0.226]]\n",
      "Entrada: [0 1 1 0] → Predicción: [[0.113]]\n",
      "Entrada: [0 1 1 1] → Predicción: [[0.044]]\n",
      "Entrada: [1 0 0 0] → Predicción: [[0.877]]\n",
      "Entrada: [1 0 0 1] → Predicción: [[0.076]]\n",
      "Entrada: [1 0 1 0] → Predicción: [[0.103]]\n",
      "Entrada: [1 0 1 1] → Predicción: [[0.915]]\n",
      "Entrada: [1 1 0 0] → Predicción: [[0.093]]\n",
      "Entrada: [1 1 0 1] → Predicción: [[0.856]]\n",
      "Entrada: [1 1 1 0] → Predicción: [[0.905]]\n",
      "Entrada: [1 1 1 1] → Predicción: [[0.18]]\n"
     ]
    }
   ],
   "execution_count": 16
  },
  {
   "metadata": {},
   "cell_type": "markdown",
   "source": [
    "## 📌 Conclusiones\n",
    "\n",
    "- El MLP logró aprender la función XOR, que **no puede resolverse con un perceptrón simple**.\n",
    "- La capa oculta introduce la capacidad de modelar relaciones no lineales.\n",
    "- La función sigmoide asegura activaciones suaves entre 0 y 1, ideal para clasificación binaria.\n",
    "- Se utilizó backpropagation para ajustar pesos con base en el error de salida."
   ],
   "id": "18daaead60883b6a"
  }
 ],
 "metadata": {
  "kernelspec": {
   "display_name": "Python 3",
   "language": "python",
   "name": "python3"
  },
  "language_info": {
   "codemirror_mode": {
    "name": "ipython",
    "version": 2
   },
   "file_extension": ".py",
   "mimetype": "text/x-python",
   "name": "python",
   "nbconvert_exporter": "python",
   "pygments_lexer": "ipython2",
   "version": "2.7.6"
  }
 },
 "nbformat": 4,
 "nbformat_minor": 5
}
