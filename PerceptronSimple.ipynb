{
 "cells": [
  {
   "cell_type": "markdown",
   "id": "27267b1c2b38d37c",
   "metadata": {},
   "source": [
    "# 🤖 Perceptrón Simple en Python: Lógica AND con 4 entradas\n",
    "\n",
    "📌 El objetivo es que la red aprenda el comportamiento de una compuerta lógica AND usando un conjunto de entradas de 4 bits (`X1`, `X2`, `X3`, `X4`) con su salida deseada `d`.\n",
    "\n",
    "---"
   ]
  },
  {
   "metadata": {},
   "cell_type": "markdown",
   "source": [
    "### 👷🏽‍♂️Integrantes\n",
    "- Alfaro Urtecho Brayam Esmith\n",
    "- Huamán Gonzáles Kevin Jhoel\n",
    "- Infante Chacón Alexander\n",
    "- Saldaña Vargas Witman Daniel"
   ],
   "id": "4efdcb2d4088c503"
  },
  {
   "cell_type": "markdown",
   "id": "16be3100908e67ed",
   "metadata": {},
   "source": [
    "##  ¿Qué es un perceptrón?\n",
    "\n",
    "Un perceptrón es una neurona artificial que realiza una suma ponderada de sus entradas y luego aplica una **función de activación**.\n",
    "\n",
    "La fórmula de la salida neta (Z) es:\n",
    "\n",
    "$$\n",
    "Z = \\sum_{i=1}^{n} x_i \\cdot w_i + b\n",
    "$$\n",
    "\n",
    "Donde:\n",
    "\n",
    "- $x_i$: entrada\n",
    "- $w_i$: peso de la entrada\n",
    "- $b_i$: sesgo (bias)\n",
    "\n",
    "La salida final depende de aplicar una función de activación, como la función escalón:\n",
    "\n",
    "$$\n",
    "f(Z) =\n",
    "\\begin{cases}\n",
    "1 & \\text{si } Z \\geq 0 \\\\\n",
    "0 & \\text{si } Z < 0\n",
    "\\end{cases}\n",
    "$$\n"
   ]
  },
  {
   "cell_type": "markdown",
   "id": "cbaa8297679f6ca9",
   "metadata": {},
   "source": [
    "## Tabla de entrenamiento (compuerta AND con 4 entradas)"
   ]
  },
  {
   "cell_type": "code",
   "id": "315add1e7b379f46",
   "metadata": {
    "ExecuteTime": {
     "end_time": "2025-06-25T06:09:15.691230Z",
     "start_time": "2025-06-25T06:09:15.650248Z"
    }
   },
   "source": [
    "import pandas as pd\n",
    "\n",
    "data = {\n",
    "    \"X1\": [0, 0, 1, 1],\n",
    "    \"X2\": [0, 1, 1, 1],\n",
    "    \"X3\": [0, 1, 1, 0],\n",
    "    \"X4\": [0, 0, 1, 1],\n",
    "    \"d\":  [0, 0, 1, 0]\n",
    "}\n",
    "\n",
    "df = pd.DataFrame(data)\n",
    "df"
   ],
   "outputs": [
    {
     "data": {
      "text/plain": [
       "   X1  X2  X3  X4  d\n",
       "0   0   0   0   0  0\n",
       "1   0   1   1   0  0\n",
       "2   1   1   1   1  1\n",
       "3   1   1   0   1  0"
      ],
      "text/html": [
       "<div>\n",
       "<style scoped>\n",
       "    .dataframe tbody tr th:only-of-type {\n",
       "        vertical-align: middle;\n",
       "    }\n",
       "\n",
       "    .dataframe tbody tr th {\n",
       "        vertical-align: top;\n",
       "    }\n",
       "\n",
       "    .dataframe thead th {\n",
       "        text-align: right;\n",
       "    }\n",
       "</style>\n",
       "<table border=\"1\" class=\"dataframe\">\n",
       "  <thead>\n",
       "    <tr style=\"text-align: right;\">\n",
       "      <th></th>\n",
       "      <th>X1</th>\n",
       "      <th>X2</th>\n",
       "      <th>X3</th>\n",
       "      <th>X4</th>\n",
       "      <th>d</th>\n",
       "    </tr>\n",
       "  </thead>\n",
       "  <tbody>\n",
       "    <tr>\n",
       "      <th>0</th>\n",
       "      <td>0</td>\n",
       "      <td>0</td>\n",
       "      <td>0</td>\n",
       "      <td>0</td>\n",
       "      <td>0</td>\n",
       "    </tr>\n",
       "    <tr>\n",
       "      <th>1</th>\n",
       "      <td>0</td>\n",
       "      <td>1</td>\n",
       "      <td>1</td>\n",
       "      <td>0</td>\n",
       "      <td>0</td>\n",
       "    </tr>\n",
       "    <tr>\n",
       "      <th>2</th>\n",
       "      <td>1</td>\n",
       "      <td>1</td>\n",
       "      <td>1</td>\n",
       "      <td>1</td>\n",
       "      <td>1</td>\n",
       "    </tr>\n",
       "    <tr>\n",
       "      <th>3</th>\n",
       "      <td>1</td>\n",
       "      <td>1</td>\n",
       "      <td>0</td>\n",
       "      <td>1</td>\n",
       "      <td>0</td>\n",
       "    </tr>\n",
       "  </tbody>\n",
       "</table>\n",
       "</div>"
      ]
     },
     "execution_count": 7,
     "metadata": {},
     "output_type": "execute_result"
    }
   ],
   "execution_count": 7
  },
  {
   "cell_type": "markdown",
   "id": "49979024a64205d7",
   "metadata": {},
   "source": [
    "## Código del Perceptron"
   ]
  },
  {
   "cell_type": "code",
   "id": "7bb2c1f70dddda12",
   "metadata": {
    "ExecuteTime": {
     "end_time": "2025-06-25T06:09:15.816045Z",
     "start_time": "2025-06-25T06:09:15.809187Z"
    }
   },
   "source": [
    "import numpy as np\n",
    "\n",
    "# Clase del perceptrón simple\n",
    "class PerceptronSimple:\n",
    "    def __init__(self, input_size, learning_rate , epochs ):\n",
    "        # Inicializa pesos en cero (incluye bias como weights[0])\n",
    "        self.weights = np.zeros(input_size + 1)\n",
    "        self.lr = learning_rate\n",
    "        self.epochs = epochs\n",
    "\n",
    "    def activation_function(self, x):\n",
    "        # Función escalón: activa si Z ≥ 0\n",
    "        return 1 if x >= 0 else 0\n",
    "\n",
    "    def predict(self, x):\n",
    "        # Calcula Z como suma ponderada + bias\n",
    "        z = np.dot(x, self.weights[1:]) + self.weights[0]\n",
    "        return self.activation_function(z)\n",
    "\n",
    "    def train(self, x, y):\n",
    "        self.errors_por_epoca = []\n",
    "        for epoch in range(self.epochs):\n",
    "            print(f\"Época {epoch +1}:\")\n",
    "            for xi, target in zip(x, y):\n",
    "                output = self.predict(xi)\n",
    "                error = target - output\n",
    "\n",
    "                # Ajuste de pesos y bias\n",
    "                self.weights[1:] += self.lr * error * xi\n",
    "                self.weights[0] += self.lr * error\n",
    "\n",
    "                print(f\"  Entrada: {xi}, Esperado: {target}, Predicho: {output}, Error: {error}\")\n",
    "                # Error total por época (opcional: suma o promedio absoluto)\n",
    "                error_epoca = sum(abs(target - self.predict(xi)) for xi, target in zip(x, y))\n",
    "\n",
    "            self.errors_por_epoca.append(error_epoca)\n"
   ],
   "outputs": [],
   "execution_count": 8
  },
  {
   "cell_type": "markdown",
   "id": "2ba493e932a6734f",
   "metadata": {},
   "source": [
    "## Diagrama de activación de neurona"
   ]
  },
  {
   "cell_type": "code",
   "id": "bdf592bb6cdf1cd7",
   "metadata": {
    "ExecuteTime": {
     "end_time": "2025-06-25T06:09:16.061796Z",
     "start_time": "2025-06-25T06:09:15.896218Z"
    }
   },
   "source": [
    "import numpy as np\n",
    "import matplotlib.pyplot as plt\n",
    "\n",
    "x = np.linspace(-2, 2, 100)\n",
    "y = [1 if val >= 0 else 0 for val in x]\n",
    "\n",
    "plt.plot(x, y)\n",
    "plt.title(\" Función Escalón\")\n",
    "plt.xlabel(\"Z (entrada neta)\")\n",
    "plt.ylabel(\"Salida activada\")\n",
    "plt.grid(True)\n",
    "plt.show()"
   ],
   "outputs": [
    {
     "data": {
      "text/plain": [
       "<Figure size 640x480 with 1 Axes>"
      ],
      "image/png": "[encoded data removed]"
     },
     "metadata": {},
     "output_type": "display_data"
    }
   ],
   "execution_count": 9
  },
  {
   "cell_type": "markdown",
   "id": "130fc0877edffb35",
   "metadata": {},
   "source": [
    "## Entrenamiento"
   ]
  },
  {
   "cell_type": "code",
   "id": "ed46b40d758c4148",
   "metadata": {
    "ExecuteTime": {
     "end_time": "2025-06-25T06:09:16.136525Z",
     "start_time": "2025-06-25T06:09:16.120261Z"
    }
   },
   "source": [
    "# Leer datos desde la tabla creada manualmente\n",
    "X = df[[\"X1\", \"X2\", \"X3\", \"X4\"]].values\n",
    "Y = df[\"d\"].values\n",
    "\n",
    "# Crear y entrenar el perceptrón\n",
    "perceptron = PerceptronSimple(input_size=4, learning_rate=0.001, epochs=15)\n",
    "perceptron.train(X, Y)\n"
   ],
   "outputs": [
    {
     "name": "stdout",
     "output_type": "stream",
     "text": [
      "Época 1:\n",
      "  Entrada: [0 0 0 0], Esperado: 0, Predicho: 1, Error: -1\n",
      "  Entrada: [0 1 1 0], Esperado: 0, Predicho: 0, Error: 0\n",
      "  Entrada: [1 1 1 1], Esperado: 1, Predicho: 0, Error: 1\n",
      "  Entrada: [1 1 0 1], Esperado: 0, Predicho: 1, Error: -1\n",
      "Época 2:\n",
      "  Entrada: [0 0 0 0], Esperado: 0, Predicho: 0, Error: 0\n",
      "  Entrada: [0 1 1 0], Esperado: 0, Predicho: 1, Error: -1\n",
      "  Entrada: [1 1 1 1], Esperado: 1, Predicho: 0, Error: 1\n",
      "  Entrada: [1 1 0 1], Esperado: 0, Predicho: 1, Error: -1\n",
      "Época 3:\n",
      "  Entrada: [0 0 0 0], Esperado: 0, Predicho: 0, Error: 0\n",
      "  Entrada: [0 1 1 0], Esperado: 0, Predicho: 0, Error: 0\n",
      "  Entrada: [1 1 1 1], Esperado: 1, Predicho: 0, Error: 1\n",
      "  Entrada: [1 1 0 1], Esperado: 0, Predicho: 1, Error: -1\n",
      "Época 4:\n",
      "  Entrada: [0 0 0 0], Esperado: 0, Predicho: 0, Error: 0\n",
      "  Entrada: [0 1 1 0], Esperado: 0, Predicho: 0, Error: 0\n",
      "  Entrada: [1 1 1 1], Esperado: 1, Predicho: 0, Error: 1\n",
      "  Entrada: [1 1 0 1], Esperado: 0, Predicho: 1, Error: -1\n",
      "Época 5:\n",
      "  Entrada: [0 0 0 0], Esperado: 0, Predicho: 0, Error: 0\n",
      "  Entrada: [0 1 1 0], Esperado: 0, Predicho: 1, Error: -1\n",
      "  Entrada: [1 1 1 1], Esperado: 1, Predicho: 0, Error: 1\n",
      "  Entrada: [1 1 0 1], Esperado: 0, Predicho: 0, Error: 0\n",
      "Época 6:\n",
      "  Entrada: [0 0 0 0], Esperado: 0, Predicho: 0, Error: 0\n",
      "  Entrada: [0 1 1 0], Esperado: 0, Predicho: 1, Error: -1\n",
      "  Entrada: [1 1 1 1], Esperado: 1, Predicho: 0, Error: 1\n",
      "  Entrada: [1 1 0 1], Esperado: 0, Predicho: 1, Error: -1\n",
      "Época 7:\n",
      "  Entrada: [0 0 0 0], Esperado: 0, Predicho: 0, Error: 0\n",
      "  Entrada: [0 1 1 0], Esperado: 0, Predicho: 0, Error: 0\n",
      "  Entrada: [1 1 1 1], Esperado: 1, Predicho: 1, Error: 0\n",
      "  Entrada: [1 1 0 1], Esperado: 0, Predicho: 0, Error: 0\n",
      "Época 8:\n",
      "  Entrada: [0 0 0 0], Esperado: 0, Predicho: 0, Error: 0\n",
      "  Entrada: [0 1 1 0], Esperado: 0, Predicho: 0, Error: 0\n",
      "  Entrada: [1 1 1 1], Esperado: 1, Predicho: 1, Error: 0\n",
      "  Entrada: [1 1 0 1], Esperado: 0, Predicho: 0, Error: 0\n",
      "Época 9:\n",
      "  Entrada: [0 0 0 0], Esperado: 0, Predicho: 0, Error: 0\n",
      "  Entrada: [0 1 1 0], Esperado: 0, Predicho: 0, Error: 0\n",
      "  Entrada: [1 1 1 1], Esperado: 1, Predicho: 1, Error: 0\n",
      "  Entrada: [1 1 0 1], Esperado: 0, Predicho: 0, Error: 0\n",
      "Época 10:\n",
      "  Entrada: [0 0 0 0], Esperado: 0, Predicho: 0, Error: 0\n",
      "  Entrada: [0 1 1 0], Esperado: 0, Predicho: 0, Error: 0\n",
      "  Entrada: [1 1 1 1], Esperado: 1, Predicho: 1, Error: 0\n",
      "  Entrada: [1 1 0 1], Esperado: 0, Predicho: 0, Error: 0\n",
      "Época 11:\n",
      "  Entrada: [0 0 0 0], Esperado: 0, Predicho: 0, Error: 0\n",
      "  Entrada: [0 1 1 0], Esperado: 0, Predicho: 0, Error: 0\n",
      "  Entrada: [1 1 1 1], Esperado: 1, Predicho: 1, Error: 0\n",
      "  Entrada: [1 1 0 1], Esperado: 0, Predicho: 0, Error: 0\n",
      "Época 12:\n",
      "  Entrada: [0 0 0 0], Esperado: 0, Predicho: 0, Error: 0\n",
      "  Entrada: [0 1 1 0], Esperado: 0, Predicho: 0, Error: 0\n",
      "  Entrada: [1 1 1 1], Esperado: 1, Predicho: 1, Error: 0\n",
      "  Entrada: [1 1 0 1], Esperado: 0, Predicho: 0, Error: 0\n",
      "Época 13:\n",
      "  Entrada: [0 0 0 0], Esperado: 0, Predicho: 0, Error: 0\n",
      "  Entrada: [0 1 1 0], Esperado: 0, Predicho: 0, Error: 0\n",
      "  Entrada: [1 1 1 1], Esperado: 1, Predicho: 1, Error: 0\n",
      "  Entrada: [1 1 0 1], Esperado: 0, Predicho: 0, Error: 0\n",
      "Época 14:\n",
      "  Entrada: [0 0 0 0], Esperado: 0, Predicho: 0, Error: 0\n",
      "  Entrada: [0 1 1 0], Esperado: 0, Predicho: 0, Error: 0\n",
      "  Entrada: [1 1 1 1], Esperado: 1, Predicho: 1, Error: 0\n",
      "  Entrada: [1 1 0 1], Esperado: 0, Predicho: 0, Error: 0\n",
      "Época 15:\n",
      "  Entrada: [0 0 0 0], Esperado: 0, Predicho: 0, Error: 0\n",
      "  Entrada: [0 1 1 0], Esperado: 0, Predicho: 0, Error: 0\n",
      "  Entrada: [1 1 1 1], Esperado: 1, Predicho: 1, Error: 0\n",
      "  Entrada: [1 1 0 1], Esperado: 0, Predicho: 0, Error: 0\n"
     ]
    }
   ],
   "execution_count": 10
  },
  {
   "cell_type": "markdown",
   "id": "4476ad21006a9ec5",
   "metadata": {},
   "source": [
    "## Gráfico de errores"
   ]
  },
  {
   "cell_type": "code",
   "id": "1cdc756fc46e72cb",
   "metadata": {
    "ExecuteTime": {
     "end_time": "2025-06-25T06:09:16.304530Z",
     "start_time": "2025-06-25T06:09:16.195695Z"
    }
   },
   "source": [
    "import matplotlib.pyplot as plt\n",
    "\n",
    "plt.plot(range(1, perceptron.epochs + 1), perceptron.errors_por_epoca, marker='o')\n",
    "plt.title(' Error por Época durante el Entrenamiento')\n",
    "plt.xlabel('Época')\n",
    "plt.ylabel('Errores totales')\n",
    "plt.grid(True)\n",
    "plt.show()"
   ],
   "outputs": [
    {
     "data": {
      "text/plain": [
       "<Figure size 640x480 with 1 Axes>"
      ],
      "image/png": "[encoded data removed]"
     },
     "metadata": {},
     "output_type": "display_data"
    }
   ],
   "execution_count": 11
  },
  {
   "cell_type": "markdown",
   "id": "a24b00dfcb4d1986",
   "metadata": {},
   "source": [
    "## Pruebas Finales"
   ]
  },
  {
   "cell_type": "code",
   "id": "5f8639bb1bcda96b",
   "metadata": {
    "ExecuteTime": {
     "end_time": "2025-06-25T06:09:16.335952Z",
     "start_time": "2025-06-25T06:09:16.330136Z"
    }
   },
   "source": [
    "print(\"\\nPruebas finales:\")\n",
    "for xi in X:\n",
    "    pred = perceptron.predict(xi)\n",
    "    print(f\"Entrada: {xi}, Predicción: {pred}\")"
   ],
   "outputs": [
    {
     "name": "stdout",
     "output_type": "stream",
     "text": [
      "\n",
      "Pruebas finales:\n",
      "Entrada: [0 0 0 0], Predicción: 0\n",
      "Entrada: [0 1 1 0], Predicción: 0\n",
      "Entrada: [1 1 1 1], Predicción: 1\n",
      "Entrada: [1 1 0 1], Predicción: 0\n"
     ]
    }
   ],
   "execution_count": 12
  },
  {
   "cell_type": "markdown",
   "id": "894d876e51dc0ed2",
   "metadata": {},
   "source": [
    "##  Conclusiones\n",
    "\n",
    "- El perceptrón simple es capaz de aprender funciones lógicas **linealmente separables** como AND.\n",
    "- El peso y el bias se ajustan usando el error en cada época.\n",
    "- Si quisiéramos aprender XOR, necesitaríamos una red multicapa (MLP).\n"
   ]
  }
 ],
 "metadata": {
  "kernelspec": {
   "display_name": "Python 3 (ipykernel)",
   "language": "python",
   "name": "python3"
  },
  "language_info": {
   "codemirror_mode": {
    "name": "ipython",
    "version": 3
   },
   "file_extension": ".py",
   "mimetype": "text/x-python",
   "name": "python",
   "nbconvert_exporter": "python",
   "pygments_lexer": "ipython3",
   "version": "3.13.3"
  }
 },
 "nbformat": 4,
 "nbformat_minor": 5
}
